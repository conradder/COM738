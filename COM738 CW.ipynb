{
 "cells": [
  {
   "cell_type": "code",
   "execution_count": 39,
   "id": "42fd3244",
   "metadata": {},
   "outputs": [],
   "source": [
    "import csv"
   ]
  },
  {
   "cell_type": "code",
   "execution_count": 40,
   "id": "151d8be2",
   "metadata": {},
   "outputs": [
    {
     "name": "stdout",
     "output_type": "stream",
     "text": [
      "['area', 'perimeter', 'compactness', 'length of kernel', 'width of kernel', 'asymmetry coefficient', 'length of kernel groove', 'wheatLabel']\n"
     ]
    }
   ],
   "source": [
    "#get column names from CSV\n",
    "with open('wheatData.csv', 'r') as file:\n",
    "    wheat=csv.DictReader(file, delimiter=',')\n",
    "    print(wheat.fieldnames)\n",
    "   # wheatTypes={}\n",
    "    #for row in wheat:\n",
    "        \n",
    "        \n",
    "  "
   ]
  },
  {
   "cell_type": "code",
   "execution_count": null,
   "id": "da76f4e7",
   "metadata": {},
   "outputs": [],
   "source": []
  },
  {
   "cell_type": "code",
   "execution_count": 41,
   "id": "05bb895c",
   "metadata": {},
   "outputs": [
    {
     "data": {
      "text/plain": [
       "{'Canadian', 'Kama', 'Rosa '}"
      ]
     },
     "execution_count": 41,
     "metadata": {},
     "output_type": "execute_result"
    }
   ],
   "source": [
    "#get unique values from wheatLabel column for classification \n",
    "\n",
    "wheatTypes=[] #create a list\n",
    "with open('wheatData.csv', 'r') as file:\n",
    "    wheat=csv.DictReader(file, delimiter=',')\n",
    "\n",
    "    for row in wheat:\n",
    "        wheatTypes.append(row['wheatLabel'])\n",
    "wheatTypes=set(wheatTypes) #convert list to set to remove duplicates \n",
    "wheatTypes"
   ]
  },
  {
   "cell_type": "code",
   "execution_count": 42,
   "id": "4f251e5d",
   "metadata": {},
   "outputs": [
    {
     "name": "stdout",
     "output_type": "stream",
     "text": [
      "    area  perimeter  compactness  length of kernel  width of kernel  \\\n",
      "0  15.26      14.84       0.8710             5.763            3.312   \n",
      "1  14.88      14.57       0.8811             5.554            3.333   \n",
      "2  14.29      14.09       0.9050             5.291            3.337   \n",
      "3  13.84      13.94       0.8955             5.324            3.379   \n",
      "4  16.14      14.99       0.9034             5.658            3.562   \n",
      "\n",
      "   asymmetry coefficient  length of kernel groove wheatLabel  \n",
      "0                  2.221                    5.220       Kama  \n",
      "1                  1.018                    4.956       Kama  \n",
      "2                  2.699                    4.825       Kama  \n",
      "3                  2.259                    4.805       Kama  \n",
      "4                  1.355                    5.175       Kama  \n"
     ]
    }
   ],
   "source": [
    "#import csv  using pandas\n",
    "import pandas as pd   \n",
    "import numpy as np\n",
    "import matplotlib.pyplot as plt\n",
    "df =  pd.read_csv('wheatData.csv')\n",
    "print (df.head())"
   ]
  },
  {
   "cell_type": "code",
   "execution_count": 47,
   "id": "8ae5b4f5",
   "metadata": {},
   "outputs": [
    {
     "data": {
      "text/plain": [
       "area                       210\n",
       "perimeter                  210\n",
       "compactness                210\n",
       "length_of_kernel           210\n",
       "width_of_kernel            210\n",
       "asymmetry_coefficient      210\n",
       "length_of_kernel_groove    210\n",
       "wheatLabel                 210\n",
       "dtype: int64"
      ]
     },
     "execution_count": 47,
     "metadata": {},
     "output_type": "execute_result"
    }
   ],
   "source": [
    "df.count()"
   ]
  },
  {
   "cell_type": "code",
   "execution_count": 48,
   "id": "ecca1eff",
   "metadata": {},
   "outputs": [
    {
     "name": "stdout",
     "output_type": "stream",
     "text": [
      "<class 'pandas.core.frame.DataFrame'>\n",
      "RangeIndex: 210 entries, 0 to 209\n",
      "Data columns (total 8 columns):\n",
      " #   Column                   Non-Null Count  Dtype  \n",
      "---  ------                   --------------  -----  \n",
      " 0   area                     210 non-null    float64\n",
      " 1   perimeter                210 non-null    float64\n",
      " 2   compactness              210 non-null    float64\n",
      " 3   length_of_kernel         210 non-null    float64\n",
      " 4   width_of_kernel          210 non-null    float64\n",
      " 5   asymmetry_coefficient    210 non-null    float64\n",
      " 6   length_of_kernel_groove  210 non-null    float64\n",
      " 7   wheatLabel               210 non-null    object \n",
      "dtypes: float64(7), object(1)\n",
      "memory usage: 13.2+ KB\n"
     ]
    }
   ],
   "source": [
    "df.info()"
   ]
  },
  {
   "cell_type": "code",
   "execution_count": 7,
   "id": "b6de3bb4",
   "metadata": {},
   "outputs": [
    {
     "data": {
      "text/plain": [
       "(210, 8)"
      ]
     },
     "execution_count": 7,
     "metadata": {},
     "output_type": "execute_result"
    }
   ],
   "source": [
    "df.shape"
   ]
  },
  {
   "cell_type": "code",
   "execution_count": 8,
   "id": "19c8e102",
   "metadata": {},
   "outputs": [
    {
     "data": {
      "text/plain": [
       "70"
      ]
     },
     "execution_count": 8,
     "metadata": {},
     "output_type": "execute_result"
    }
   ],
   "source": [
    "df.wheatLabel[df.wheatLabel=='Kama'].count()\n"
   ]
  },
  {
   "cell_type": "code",
   "execution_count": 49,
   "id": "5e61fbda",
   "metadata": {
    "scrolled": true
   },
   "outputs": [
    {
     "data": {
      "text/html": [
       "<div>\n",
       "<style scoped>\n",
       "    .dataframe tbody tr th:only-of-type {\n",
       "        vertical-align: middle;\n",
       "    }\n",
       "\n",
       "    .dataframe tbody tr th {\n",
       "        vertical-align: top;\n",
       "    }\n",
       "\n",
       "    .dataframe thead th {\n",
       "        text-align: right;\n",
       "    }\n",
       "</style>\n",
       "<table border=\"1\" class=\"dataframe\">\n",
       "  <thead>\n",
       "    <tr style=\"text-align: right;\">\n",
       "      <th></th>\n",
       "      <th>area</th>\n",
       "      <th>perimeter</th>\n",
       "      <th>compactness</th>\n",
       "      <th>length_of_kernel</th>\n",
       "      <th>width_of_kernel</th>\n",
       "      <th>asymmetry_coefficient</th>\n",
       "      <th>length_of_kernel_groove</th>\n",
       "    </tr>\n",
       "  </thead>\n",
       "  <tbody>\n",
       "    <tr>\n",
       "      <th>count</th>\n",
       "      <td>210.000000</td>\n",
       "      <td>210.000000</td>\n",
       "      <td>210.000000</td>\n",
       "      <td>210.000000</td>\n",
       "      <td>210.000000</td>\n",
       "      <td>210.000000</td>\n",
       "      <td>210.000000</td>\n",
       "    </tr>\n",
       "    <tr>\n",
       "      <th>mean</th>\n",
       "      <td>14.847524</td>\n",
       "      <td>14.559286</td>\n",
       "      <td>0.870999</td>\n",
       "      <td>5.628533</td>\n",
       "      <td>3.258605</td>\n",
       "      <td>3.700201</td>\n",
       "      <td>5.408071</td>\n",
       "    </tr>\n",
       "    <tr>\n",
       "      <th>std</th>\n",
       "      <td>2.909699</td>\n",
       "      <td>1.305959</td>\n",
       "      <td>0.023629</td>\n",
       "      <td>0.443063</td>\n",
       "      <td>0.377714</td>\n",
       "      <td>1.503557</td>\n",
       "      <td>0.491480</td>\n",
       "    </tr>\n",
       "    <tr>\n",
       "      <th>min</th>\n",
       "      <td>10.590000</td>\n",
       "      <td>12.410000</td>\n",
       "      <td>0.808100</td>\n",
       "      <td>4.899000</td>\n",
       "      <td>2.630000</td>\n",
       "      <td>0.765100</td>\n",
       "      <td>4.519000</td>\n",
       "    </tr>\n",
       "    <tr>\n",
       "      <th>25%</th>\n",
       "      <td>12.270000</td>\n",
       "      <td>13.450000</td>\n",
       "      <td>0.856900</td>\n",
       "      <td>5.262250</td>\n",
       "      <td>2.944000</td>\n",
       "      <td>2.561500</td>\n",
       "      <td>5.045000</td>\n",
       "    </tr>\n",
       "    <tr>\n",
       "      <th>50%</th>\n",
       "      <td>14.355000</td>\n",
       "      <td>14.320000</td>\n",
       "      <td>0.873450</td>\n",
       "      <td>5.523500</td>\n",
       "      <td>3.237000</td>\n",
       "      <td>3.599000</td>\n",
       "      <td>5.223000</td>\n",
       "    </tr>\n",
       "    <tr>\n",
       "      <th>75%</th>\n",
       "      <td>17.305000</td>\n",
       "      <td>15.715000</td>\n",
       "      <td>0.887775</td>\n",
       "      <td>5.979750</td>\n",
       "      <td>3.561750</td>\n",
       "      <td>4.768750</td>\n",
       "      <td>5.877000</td>\n",
       "    </tr>\n",
       "    <tr>\n",
       "      <th>max</th>\n",
       "      <td>21.180000</td>\n",
       "      <td>17.250000</td>\n",
       "      <td>0.918300</td>\n",
       "      <td>6.675000</td>\n",
       "      <td>4.033000</td>\n",
       "      <td>8.456000</td>\n",
       "      <td>6.550000</td>\n",
       "    </tr>\n",
       "  </tbody>\n",
       "</table>\n",
       "</div>"
      ],
      "text/plain": [
       "             area   perimeter  compactness  length_of_kernel  width_of_kernel  \\\n",
       "count  210.000000  210.000000   210.000000        210.000000       210.000000   \n",
       "mean    14.847524   14.559286     0.870999          5.628533         3.258605   \n",
       "std      2.909699    1.305959     0.023629          0.443063         0.377714   \n",
       "min     10.590000   12.410000     0.808100          4.899000         2.630000   \n",
       "25%     12.270000   13.450000     0.856900          5.262250         2.944000   \n",
       "50%     14.355000   14.320000     0.873450          5.523500         3.237000   \n",
       "75%     17.305000   15.715000     0.887775          5.979750         3.561750   \n",
       "max     21.180000   17.250000     0.918300          6.675000         4.033000   \n",
       "\n",
       "       asymmetry_coefficient  length_of_kernel_groove  \n",
       "count             210.000000               210.000000  \n",
       "mean                3.700201                 5.408071  \n",
       "std                 1.503557                 0.491480  \n",
       "min                 0.765100                 4.519000  \n",
       "25%                 2.561500                 5.045000  \n",
       "50%                 3.599000                 5.223000  \n",
       "75%                 4.768750                 5.877000  \n",
       "max                 8.456000                 6.550000  "
      ]
     },
     "execution_count": 49,
     "metadata": {},
     "output_type": "execute_result"
    }
   ],
   "source": [
    "df.describe()"
   ]
  },
  {
   "cell_type": "code",
   "execution_count": 46,
   "id": "ad6d5cb6",
   "metadata": {},
   "outputs": [],
   "source": [
    "#columns have a space in some of the names, may cause issues.. this is the fix\n",
    "df.columns = df.columns.str.replace(' ', '_')\n",
    "#Rosa has a space after it in the data... this is the fix!!!\n",
    "df.wheatLabel = df.wheatLabel.str.replace(' ','') "
   ]
  },
  {
   "cell_type": "code",
   "execution_count": 28,
   "id": "6ceb4644",
   "metadata": {
    "scrolled": true
   },
   "outputs": [
    {
     "data": {
      "text/plain": [
       "Text(0.5, 0, 'Area')"
      ]
     },
     "execution_count": 28,
     "metadata": {},
     "output_type": "execute_result"
    },
    {
     "data": {
      "image/png": "[encoded data removed]",
      "text/plain": [
       "<Figure size 360x216 with 1 Axes>"
      ]
     },
     "metadata": {
      "needs_background": "light"
     },
     "output_type": "display_data"
    }
   ],
   "source": [
    "#create scatter plot to show area / wheat grains\n",
    "\n",
    "fig,ax = plt.subplots(figsize=(5,3))\n",
    "ax.scatter(x=df['area'], y=df['wheatLabel'])\n",
    "ax.axvline(13, linestyle='--', color='gray')\n",
    "ax.axvline(16, linestyle='--', color='gray')\n",
    "ax.set_title(\"Area of Wheat Grains by Classification\")\n",
    "ax.set_ylabel(\"Wheat Class\")\n",
    "ax.set_xlabel(\"Area\")\n",
    "\n"
   ]
  },
  {
   "cell_type": "code",
   "execution_count": 52,
   "id": "98de7bc1",
   "metadata": {},
   "outputs": [
    {
     "data": {
      "image/png": "[encoded data removed]",
      "text/plain": [
       "<Figure size 432x288 with 1 Axes>"
      ]
     },
     "metadata": {
      "needs_background": "light"
     },
     "output_type": "display_data"
    }
   ],
   "source": [
    "#boxplot\n",
    "data= [df['area'][df.wheatLabel=='Kama'], df['area'][df.wheatLabel=='Rosa'], df['area'][df.wheatLabel=='Canadian']]\n",
    "plt.boxplot(data)\n",
    "plt.xticks([1,2,3],[\"Kama\", \"Rosa\", \"Canadian\"])\n",
    "plt.xlabel(\"Classification\")\n",
    "plt.ylabel(\"Area\")\n",
    "plt.title(\"Box Plot: Classification by Area\")\n",
    "plt.show()"
   ]
  },
  {
   "cell_type": "code",
   "execution_count": 14,
   "id": "13dbe30a",
   "metadata": {},
   "outputs": [
    {
     "data": {
      "text/plain": [
       "'Rosa'"
      ]
     },
     "execution_count": 14,
     "metadata": {},
     "output_type": "execute_result"
    }
   ],
   "source": [
    "df.wheatLabel[110]"
   ]
  },
  {
   "cell_type": "code",
   "execution_count": 54,
   "id": "4da28752",
   "metadata": {},
   "outputs": [
    {
     "data": {
      "image/png": "[encoded data removed]",
      "text/plain": [
       "<Figure size 432x288 with 1 Axes>"
      ]
     },
     "metadata": {
      "needs_background": "light"
     },
     "output_type": "display_data"
    }
   ],
   "source": [
    "plt.scatter(x=df['length_of_kernel'][df.wheatLabel=='Kama'], y=df['width_of_kernel'][df.wheatLabel=='Kama'], color='Red', label='Kama')\n",
    "plt.scatter(x=df['length_of_kernel'][df.wheatLabel=='Rosa'], y=df['width_of_kernel'][df.wheatLabel=='Rosa'], color='Black', label='Rosa')\n",
    "plt.scatter(x=df['length_of_kernel'][df.wheatLabel=='Canadian'], y=df['width_of_kernel'][df.wheatLabel=='Canadian'], color='Green', label='Canadian')\n",
    "\n",
    "\n",
    "#['length_of_kernel'][df.wheatLabel=='Kama']\n",
    "plt.legend()\n",
    "plt.xlabel(\"Length of Kernel\")\n",
    "plt.ylabel(\"Width of Kernel\")\n",
    "plt.title(\"Classification:Length v Width\")\n",
    "plt.show()"
   ]
  },
  {
   "cell_type": "code",
   "execution_count": 57,
   "id": "bbf927da",
   "metadata": {},
   "outputs": [
    {
     "data": {
      "image/png": "[encoded data removed]",
      "text/plain": [
       "<Figure size 432x288 with 1 Axes>"
      ]
     },
     "metadata": {
      "needs_background": "light"
     },
     "output_type": "display_data"
    }
   ],
   "source": [
    "\n",
    "plt.scatter(x=df['length_of_kernel'][df.wheatLabel=='Kama'], y=df['length_of_kernel_groove'][df.wheatLabel=='Kama'], color='Red', label='Kama')\n",
    "plt.scatter(x=df['length_of_kernel'][df.wheatLabel=='Rosa'], y=df['length_of_kernel_groove'][df.wheatLabel=='Rosa'], color='Black', label='Rosa')\n",
    "plt.scatter(x=df['length_of_kernel'][df.wheatLabel=='Canadian'], y=df['length_of_kernel_groove'][df.wheatLabel=='Canadian'], color='Green', label='Canadian')\n",
    "\n",
    "plt.legend()\n",
    "plt.xlabel(\"Length of Kernel\")\n",
    "plt.ylabel(\"Length of Kernel Groove\")\n",
    "plt.title(\"Classification:Length v Length of Kernel Groove\")\n",
    "plt.show()\n"
   ]
  },
  {
   "cell_type": "code",
   "execution_count": 44,
   "id": "1705c612",
   "metadata": {},
   "outputs": [
    {
     "data": {
      "text/plain": [
       "Index(['area', 'perimeter', 'compactness', 'length of kernel',\n",
       "       'width of kernel', 'asymmetry coefficient', 'length of kernel groove',\n",
       "       'wheatLabel'],\n",
       "      dtype='object')"
      ]
     },
     "execution_count": 44,
     "metadata": {},
     "output_type": "execute_result"
    }
   ],
   "source": [
    "df.columns\n"
   ]
  },
  {
   "cell_type": "code",
   "execution_count": 38,
   "id": "2bb46bd8",
   "metadata": {},
   "outputs": [
    {
     "name": "stdout",
     "output_type": "stream",
     "text": [
      "<class 'pandas.core.frame.DataFrame'>\n",
      "RangeIndex: 210 entries, 0 to 209\n",
      "Data columns (total 8 columns):\n",
      " #   Column                   Non-Null Count  Dtype  \n",
      "---  ------                   --------------  -----  \n",
      " 0   area                     210 non-null    float64\n",
      " 1   perimeter                210 non-null    float64\n",
      " 2   compactness              210 non-null    float64\n",
      " 3   length_of_kernel         210 non-null    float64\n",
      " 4   width_of_kernel          210 non-null    float64\n",
      " 5   asymmetry_coefficient    210 non-null    float64\n",
      " 6   length_of_kernel_groove  210 non-null    float64\n",
      " 7   wheatLabel               210 non-null    object \n",
      "dtypes: float64(7), object(1)\n",
      "memory usage: 13.2+ KB\n"
     ]
    }
   ],
   "source": [
    "df.info()"
   ]
  },
  {
   "cell_type": "code",
   "execution_count": 18,
   "id": "1b2b5569",
   "metadata": {},
   "outputs": [
    {
     "data": {
      "text/plain": [
       "0     15.26\n",
       "1     14.88\n",
       "2     14.29\n",
       "3     13.84\n",
       "4     16.14\n",
       "      ...  \n",
       "65    12.88\n",
       "66    14.34\n",
       "67    14.01\n",
       "68    14.37\n",
       "69    12.73\n",
       "Name: area, Length: 70, dtype: float64"
      ]
     },
     "execution_count": 18,
     "metadata": {},
     "output_type": "execute_result"
    }
   ],
   "source": [
    "df.area[df.wheatLabel=='Kama']\n"
   ]
  },
  {
   "cell_type": "code",
   "execution_count": 42,
   "id": "86c52d73",
   "metadata": {},
   "outputs": [
    {
     "name": "stdout",
     "output_type": "stream",
     "text": [
      " kama count: 55 \n",
      " rosa count: 54 \n",
      " canadian count: 59\n"
     ]
    }
   ],
   "source": [
    "#randomise the csv and make a 80:20 split \n",
    "df_shuffled=df.sample(frac=1).reset_index(drop=True) \n",
    "#split the csv 168 = 80% of rows\n",
    "test = df_shuffled[168:] #test\n",
    "training = df_shuffled[:168] #train\n",
    "#do a check to see the weighting of each classification\n",
    "print(' kama count:',training.wheatLabel[training.wheatLabel=='Kama'].count(),\n",
    "'\\n rosa count:', training.wheatLabel[training.wheatLabel=='Rosa'].count(),\n",
    "'\\n canadian count:',training.wheatLabel[training.wheatLabel=='Canadian'].count(),\n",
    ")\n"
   ]
  },
  {
   "cell_type": "code",
   "execution_count": 72,
   "id": "4f1f7133",
   "metadata": {},
   "outputs": [],
   "source": [
    "#convert test and training set to csv\n",
    "test.to_csv(\"test.csv\", index=False)\n",
    "training.to_csv(\"training.csv\", index=False)"
   ]
  },
  {
   "cell_type": "code",
   "execution_count": 71,
   "id": "19daec79",
   "metadata": {},
   "outputs": [
    {
     "data": {
      "text/html": [
       "<div>\n",
       "<style scoped>\n",
       "    .dataframe tbody tr th:only-of-type {\n",
       "        vertical-align: middle;\n",
       "    }\n",
       "\n",
       "    .dataframe tbody tr th {\n",
       "        vertical-align: top;\n",
       "    }\n",
       "\n",
       "    .dataframe thead th {\n",
       "        text-align: right;\n",
       "    }\n",
       "</style>\n",
       "<table border=\"1\" class=\"dataframe\">\n",
       "  <thead>\n",
       "    <tr style=\"text-align: right;\">\n",
       "      <th></th>\n",
       "      <th>area</th>\n",
       "      <th>perimeter</th>\n",
       "      <th>compactness</th>\n",
       "      <th>length_of_kernel</th>\n",
       "      <th>width_of_kernel</th>\n",
       "      <th>asymmetry_coefficient</th>\n",
       "      <th>length_of_kernel_groove</th>\n",
       "      <th>wheatLabel</th>\n",
       "    </tr>\n",
       "  </thead>\n",
       "  <tbody>\n",
       "    <tr>\n",
       "      <th>0</th>\n",
       "      <td>10.93</td>\n",
       "      <td>12.80</td>\n",
       "      <td>0.8390</td>\n",
       "      <td>5.046</td>\n",
       "      <td>2.717</td>\n",
       "      <td>5.398</td>\n",
       "      <td>5.045</td>\n",
       "      <td>Canadian</td>\n",
       "    </tr>\n",
       "    <tr>\n",
       "      <th>1</th>\n",
       "      <td>15.05</td>\n",
       "      <td>14.68</td>\n",
       "      <td>0.8779</td>\n",
       "      <td>5.712</td>\n",
       "      <td>3.328</td>\n",
       "      <td>2.129</td>\n",
       "      <td>5.360</td>\n",
       "      <td>Kama</td>\n",
       "    </tr>\n",
       "    <tr>\n",
       "      <th>2</th>\n",
       "      <td>16.23</td>\n",
       "      <td>15.18</td>\n",
       "      <td>0.8850</td>\n",
       "      <td>5.872</td>\n",
       "      <td>3.472</td>\n",
       "      <td>3.769</td>\n",
       "      <td>5.922</td>\n",
       "      <td>Rosa</td>\n",
       "    </tr>\n",
       "    <tr>\n",
       "      <th>3</th>\n",
       "      <td>16.87</td>\n",
       "      <td>15.65</td>\n",
       "      <td>0.8648</td>\n",
       "      <td>6.139</td>\n",
       "      <td>3.463</td>\n",
       "      <td>3.696</td>\n",
       "      <td>5.967</td>\n",
       "      <td>Rosa</td>\n",
       "    </tr>\n",
       "    <tr>\n",
       "      <th>4</th>\n",
       "      <td>11.81</td>\n",
       "      <td>13.45</td>\n",
       "      <td>0.8198</td>\n",
       "      <td>5.413</td>\n",
       "      <td>2.716</td>\n",
       "      <td>4.898</td>\n",
       "      <td>5.352</td>\n",
       "      <td>Canadian</td>\n",
       "    </tr>\n",
       "    <tr>\n",
       "      <th>...</th>\n",
       "      <td>...</td>\n",
       "      <td>...</td>\n",
       "      <td>...</td>\n",
       "      <td>...</td>\n",
       "      <td>...</td>\n",
       "      <td>...</td>\n",
       "      <td>...</td>\n",
       "      <td>...</td>\n",
       "    </tr>\n",
       "    <tr>\n",
       "      <th>163</th>\n",
       "      <td>14.70</td>\n",
       "      <td>14.21</td>\n",
       "      <td>0.9153</td>\n",
       "      <td>5.205</td>\n",
       "      <td>3.466</td>\n",
       "      <td>1.767</td>\n",
       "      <td>4.649</td>\n",
       "      <td>Kama</td>\n",
       "    </tr>\n",
       "    <tr>\n",
       "      <th>164</th>\n",
       "      <td>18.94</td>\n",
       "      <td>16.49</td>\n",
       "      <td>0.8750</td>\n",
       "      <td>6.445</td>\n",
       "      <td>3.639</td>\n",
       "      <td>5.064</td>\n",
       "      <td>6.362</td>\n",
       "      <td>Rosa</td>\n",
       "    </tr>\n",
       "    <tr>\n",
       "      <th>165</th>\n",
       "      <td>16.53</td>\n",
       "      <td>15.34</td>\n",
       "      <td>0.8823</td>\n",
       "      <td>5.875</td>\n",
       "      <td>3.467</td>\n",
       "      <td>5.532</td>\n",
       "      <td>5.880</td>\n",
       "      <td>Rosa</td>\n",
       "    </tr>\n",
       "    <tr>\n",
       "      <th>166</th>\n",
       "      <td>12.08</td>\n",
       "      <td>13.23</td>\n",
       "      <td>0.8664</td>\n",
       "      <td>5.099</td>\n",
       "      <td>2.936</td>\n",
       "      <td>1.415</td>\n",
       "      <td>4.961</td>\n",
       "      <td>Kama</td>\n",
       "    </tr>\n",
       "    <tr>\n",
       "      <th>167</th>\n",
       "      <td>10.80</td>\n",
       "      <td>12.57</td>\n",
       "      <td>0.8590</td>\n",
       "      <td>4.981</td>\n",
       "      <td>2.821</td>\n",
       "      <td>4.773</td>\n",
       "      <td>5.063</td>\n",
       "      <td>Canadian</td>\n",
       "    </tr>\n",
       "  </tbody>\n",
       "</table>\n",
       "<p>168 rows × 8 columns</p>\n",
       "</div>"
      ],
      "text/plain": [
       "      area  perimeter  compactness  length_of_kernel  width_of_kernel  \\\n",
       "0    10.93      12.80       0.8390             5.046            2.717   \n",
       "1    15.05      14.68       0.8779             5.712            3.328   \n",
       "2    16.23      15.18       0.8850             5.872            3.472   \n",
       "3    16.87      15.65       0.8648             6.139            3.463   \n",
       "4    11.81      13.45       0.8198             5.413            2.716   \n",
       "..     ...        ...          ...               ...              ...   \n",
       "163  14.70      14.21       0.9153             5.205            3.466   \n",
       "164  18.94      16.49       0.8750             6.445            3.639   \n",
       "165  16.53      15.34       0.8823             5.875            3.467   \n",
       "166  12.08      13.23       0.8664             5.099            2.936   \n",
       "167  10.80      12.57       0.8590             4.981            2.821   \n",
       "\n",
       "     asymmetry_coefficient  length_of_kernel_groove wheatLabel  \n",
       "0                    5.398                    5.045   Canadian  \n",
       "1                    2.129                    5.360       Kama  \n",
       "2                    3.769                    5.922       Rosa  \n",
       "3                    3.696                    5.967       Rosa  \n",
       "4                    4.898                    5.352   Canadian  \n",
       "..                     ...                      ...        ...  \n",
       "163                  1.767                    4.649       Kama  \n",
       "164                  5.064                    6.362       Rosa  \n",
       "165                  5.532                    5.880       Rosa  \n",
       "166                  1.415                    4.961       Kama  \n",
       "167                  4.773                    5.063   Canadian  \n",
       "\n",
       "[168 rows x 8 columns]"
      ]
     },
     "execution_count": 71,
     "metadata": {},
     "output_type": "execute_result"
    }
   ],
   "source": [
    "training"
   ]
  },
  {
   "cell_type": "code",
   "execution_count": 67,
   "id": "d007da9c",
   "metadata": {},
   "outputs": [
    {
     "name": "stdout",
     "output_type": "stream",
     "text": [
      " kama count: 56 \n",
      " rosa count: 56 \n",
      " canadian count: 56\n"
     ]
    }
   ],
   "source": [
    "#get a 80:20 split of each classification\n",
    "\n",
    "kama = df_shuffled[df_shuffled.wheatLabel=='Kama'].reset_index(drop=True) \n",
    "kTest = kama[56:]\n",
    "kTrain =kama[:56]\n",
    "rosa = df_shuffled[df_shuffled.wheatLabel=='Rosa'].reset_index(drop=True)\n",
    "rTest = rosa[56:]\n",
    "rTrain=rosa[:56]\n",
    "canadian = df_shuffled[df_shuffled.wheatLabel=='Canadian'].reset_index(drop=True)\n",
    "cTest = canadian[56:]\n",
    "cTrain = canadian[:56]\n",
    "#concantonate each class split into one big dataset\n",
    "uwTest = pd.concat([kTest, cTest, rTest]).reset_index(drop=True)\n",
    "uwTraining = pd.concat([kTrain,cTrain,rTrain]).reset_index(drop=True)\n",
    "#check weighting\n",
    "print(' kama count:',uwTraining.wheatLabel[uwTraining.wheatLabel=='Kama'].count(),\n",
    "'\\n rosa count:', uwTraining.wheatLabel[uwTraining.wheatLabel=='Rosa'].count(),\n",
    "'\\n canadian count:',uwTraining.wheatLabel[uwTraining.wheatLabel=='Canadian'].count(),\n",
    ")\n",
    "\n",
    "\n"
   ]
  },
  {
   "cell_type": "code",
   "execution_count": 73,
   "id": "895869d7",
   "metadata": {},
   "outputs": [],
   "source": [
    "#convert to csv\n",
    "uwTraining.to_csv(\"uwTraining.csv\", index=False)\n",
    "uwTest.to_csv(\"uwTest.csv\", index=False)"
   ]
  },
  {
   "cell_type": "code",
   "execution_count": null,
   "id": "5b77d4a4",
   "metadata": {},
   "outputs": [],
   "source": []
  }
 ],
 "metadata": {
  "kernelspec": {
   "display_name": "Python 3",
   "language": "python",
   "name": "python3"
  },
  "language_info": {
   "codemirror_mode": {
    "name": "ipython",
    "version": 3
   },
   "file_extension": ".py",
   "mimetype": "text/x-python",
   "name": "python",
   "nbconvert_exporter": "python",
   "pygments_lexer": "ipython3",
   "version": "3.8.8"
  }
 },
 "nbformat": 4,
 "nbformat_minor": 5
}
